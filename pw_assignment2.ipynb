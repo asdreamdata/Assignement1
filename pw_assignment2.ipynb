{
 "cells": [
  {
   "cell_type": "code",
   "execution_count": 3,
   "id": "7d27eb2f",
   "metadata": {},
   "outputs": [
    {
     "name": "stdout",
     "output_type": "stream",
     "text": [
      "Demonstrates triple double quotes\n",
      "    docstrings and does nothing really.\n"
     ]
    }
   ],
   "source": [
    "#Q1. How do you comment code in Python? What are the different types of comments?\n",
    "\"\"\"Answers\n",
    "comments in python can be expressed in three formats\n",
    "1.single line comment \n",
    "by putting \"#\"  in front of line without whitespace\n",
    "2.Multiline Comments\n",
    "by   \"\"\" \"\"\"  three inverted commas is used for multi line coment\n",
    "3.Docstring comments\n",
    "Python docstring is the string literals with triple quotes that are appeared right after the function.\n",
    "It is used to associate documentation that has been written with Python modules, \n",
    "functions, classes, and methods. It is added right below the functions, modules, or classes to describe what they do.\n",
    "\"\"\"\n",
    "# single line comment example \n",
    "# this is my single line comment\n",
    "\n",
    "#example for multi line comment\n",
    "\"\"\"\n",
    "this is multi line comment \n",
    "we can use singel inverted comma as well as double inverted  for multi lines\n",
    "\n",
    "\"\"\"\n",
    "'''this is multiline comment in single inverted commas'''\n",
    "#docstring example\n",
    "def my_function():\n",
    "    '''Demonstrates triple double quotes\n",
    "    docstrings and does nothing really.'''\n",
    "   \n",
    "    return None\n",
    "  \n",
    "print(my_function.__doc__)\n",
    "#===============================================================================================\n"
   ]
  },
  {
   "cell_type": "code",
   "execution_count": 4,
   "id": "227ed1ec",
   "metadata": {},
   "outputs": [
    {
     "name": "stdout",
     "output_type": "stream",
     "text": [
      "5\n",
      "ajeet\n",
      "Akash\n",
      "qw\n",
      "qw 5\n",
      "<class 'int'>\n"
     ]
    }
   ],
   "source": [
    "#Q2. What are variables in Python? How do you declare and assign values to variables?\n",
    "#answer\n",
    "'''Variables are used in python to hold a value at a memory location. \n",
    "Python is a type infer language, i.e the data type of the variables do not need to be declared. \n",
    "It automatically detects the types in accordance with the variable value. \n",
    "Creating a variable is also not a tedious task in python; just need to assign a value to the variable name.\n",
    "\n",
    "Rules for a Variable Name in Python:\n",
    "A variable name should not be a keyword.\n",
    "A variable name can begin with a letter or an underscore only.\n",
    "A variable name can contain both numbers and letters along with underscores (A-z, 0-9, and _ ).\n",
    "A Variable name in Python is case-sensitive i.e, sum and Sum are two different variables.\n",
    "\n",
    "Features of a Python Variable:\n",
    "Python variables can be created whenever required. There is no boundation in declaring a variable in python.\n",
    "Python variables supports multiple assignment in a single statement\n",
    "i.e, user can assign single value to multiple variables or multiple values to multiple variables in a single statement.'''\n",
    "#examples\n",
    "# declare and assign values to variables\n",
    "#Python has no command for declaring a variable. A variable is created the moment you first assign a value to it.\n",
    "x=5\n",
    "y=\"ajeet\"\n",
    "print(x)\n",
    "print(y)\n",
    "#Variables do not need to be declared with any particular type, and can even change type after they have been set.\n",
    "x=6 # x is int type  \n",
    "x=\"Akash\" # x is now string type\n",
    "print(x)\n",
    "\n",
    "#If you want to specify the data type of a variable, this can be done with casting.\n",
    "n=int(5)\n",
    "m=str(input())\n",
    "print (m,n)\n",
    "\n",
    "#You can get the data type of a variable with the type() function.\n",
    "f=78\n",
    "print(type(f))\n",
    "\n",
    "#=========================================================================================\n"
   ]
  },
  {
   "cell_type": "code",
   "execution_count": 7,
   "id": "7f28e1b4",
   "metadata": {},
   "outputs": [
    {
     "name": "stdout",
     "output_type": "stream",
     "text": [
      "<class 'int'>\n",
      "<class 'str'>\n",
      "before  conversion data type of x2 is  <class 'int'>\n",
      "after converting data type odf x2 is  <class 'str'>\n"
     ]
    }
   ],
   "source": [
    "# question 3\n",
    "#Q3. How do you convert one data type to another in Python?\n",
    "#There are two types of conversion\n",
    "# 1:- Implicit Type Conversion\n",
    "#2:- Explicit Type Conversion\n",
    "''' \n",
    "Implicit Type Conversion\n",
    "It is a type of type conversion in which handles automatically convert one data type to another without any user involvement.\n",
    "example\n",
    "'''\n",
    "x1=5\n",
    "print(type(x1))\n",
    "x1=\"Ajeet singh\"\n",
    "print(type(x1))\n",
    "\n",
    "\"\"\"Explicit Type Conversion\n",
    "In Explicit type conversion, user involvement is required. \n",
    "The user converts one data type to another according to his own need. \n",
    "This can be done with the help of str(), int(), float(), etc. functions.\n",
    "example\n",
    "\"\"\"\n",
    "x2=6\n",
    "print( \"before  conversion data type of x2 is \",type(x2))\n",
    "d=str(x2)\n",
    "print(\"after converting data type odf x2 is \",type(d))\n",
    "\n",
    "#===========================================================================\n"
   ]
  },
  {
   "cell_type": "code",
   "execution_count": 8,
   "id": "5582b15e",
   "metadata": {},
   "outputs": [
    {
     "data": {
      "text/plain": [
       "'\\nScripts \\nIn computing, the word script is used to refer to a file containing a logical sequence of orders or a batch processing file. \\nThis is usually a simple program, stored in a plain text file.Scripts are always processed by some kind of interpreter, \\nwhich is responsible for executing each command sequentially.\\nA plain text file containing Python code that is intended to be directly executed by the user is usually called script,\\nwhich is an informal term that means top-level program file.\\no run Python scripts with the python command, you need to open a command-line and type in the word python, \\nor python3 if you have both versions, followed by the path to your script\\nexample\\nsupoose we have file test.py saved in our python dir. then use the command\\n\\npython3 test.py\\n\\n\\n'"
      ]
     },
     "execution_count": 8,
     "metadata": {},
     "output_type": "execute_result"
    }
   ],
   "source": [
    "#Q4. How do you write and execute a Python script from the command line?\n",
    "\n",
    "\"\"\"\n",
    "Scripts \n",
    "In computing, the word script is used to refer to a file containing a logical sequence of orders or a batch processing file. \n",
    "This is usually a simple program, stored in a plain text file.Scripts are always processed by some kind of interpreter, \n",
    "which is responsible for executing each command sequentially.\n",
    "A plain text file containing Python code that is intended to be directly executed by the user is usually called script,\n",
    "which is an informal term that means top-level program file.\n",
    "o run Python scripts with the python command, you need to open a command-line and type in the word python, \n",
    "or python3 if you have both versions, followed by the path to your script\n",
    "example\n",
    "supoose we have file test.py saved in our python dir. then use the command\n",
    "\n",
    "python3 test.py\n",
    "\n",
    "\n",
    "\"\"\"\n",
    "#====================================================\n"
   ]
  },
  {
   "cell_type": "code",
   "execution_count": 9,
   "id": "2c0d815e",
   "metadata": {},
   "outputs": [
    {
     "data": {
      "text/plain": [
       "[2, 3]"
      ]
     },
     "execution_count": 9,
     "metadata": {},
     "output_type": "execute_result"
    }
   ],
   "source": [
    "#Q5. Given a list my_list = [1, 2, 3, 4, 5], write the code to slice the list and obtain the sub-list [2, 3].\n",
    "my_List=[1,2,3,4,5]\n",
    "my_List[1:3]\n",
    "\n",
    "#===================================================================================="
   ]
  },
  {
   "cell_type": "code",
   "execution_count": 10,
   "id": "e93ae2f4",
   "metadata": {},
   "outputs": [
    {
     "name": "stdout",
     "output_type": "stream",
     "text": [
      "<class 'complex'>\n"
     ]
    }
   ],
   "source": [
    "#Q6. What is a complex number in mathematics, and how is it represented in Python?\n",
    "\"\"\"A complex number is a number that can be expressed in the form a + bi, \n",
    "where a and b are real numbers and i is the imaginary unit, \n",
    "satisfying the equation i^2 = −1\"\"\"\n",
    "#creating complex number in python\n",
    "co=2+3j\n",
    "#checking type of co\n",
    "print(type(co))"
   ]
  },
  {
   "cell_type": "code",
   "execution_count": 11,
   "id": "dd9e9989",
   "metadata": {},
   "outputs": [
    {
     "name": "stdout",
     "output_type": "stream",
     "text": [
      "25\n"
     ]
    }
   ],
   "source": [
    "#Q7. What is the correct way to declare a variable named age and assign the value 25 to it?\n",
    "#deaclare a varible age and assign value 25\n",
    "age=25\n",
    "print(age)\n",
    "\n",
    "#=========================================================================\n"
   ]
  },
  {
   "cell_type": "code",
   "execution_count": 12,
   "id": "064be2a7",
   "metadata": {},
   "outputs": [
    {
     "name": "stdout",
     "output_type": "stream",
     "text": [
      "<class 'float'>\n"
     ]
    }
   ],
   "source": [
    "#Q8. Declare a variable named price and assign the value 9.99 to it. What data type does this variable belong to?\n",
    "#answer\n",
    "price=9.99\n",
    "#checking data type of price is float or not\n",
    "print(type(price))\n",
    "\n",
    "#=================================================================================\n"
   ]
  },
  {
   "cell_type": "code",
   "execution_count": 13,
   "id": "4a2841f5",
   "metadata": {},
   "outputs": [
    {
     "name": "stdout",
     "output_type": "stream",
     "text": [
      "ajeet singh\n"
     ]
    }
   ],
   "source": [
    "#Q9. Create a variable named name and assign your full name to it as a string. How would you print the value of this variable?\n",
    "#answer\n",
    "# string variable is written inside \" \"  like \n",
    "name=\"ajeet singh\"\n",
    "#by using print function we can print value of name variable declared above\n",
    "print(name)\n",
    "\n",
    "#==========================================================================\n"
   ]
  },
  {
   "cell_type": "code",
   "execution_count": 14,
   "id": "e6a87df5",
   "metadata": {},
   "outputs": [
    {
     "name": "stdout",
     "output_type": "stream",
     "text": [
      "World\n"
     ]
    }
   ],
   "source": [
    "#Q10. Given the string \"Hello, World!\", extract the substring \"World\".\n",
    "#answer \n",
    "# by using the  slicing operation we can extract substring\n",
    "#creating string\n",
    "s=\"Hello, World\"\n",
    "#performing slicing operation for substring\n",
    "substr=s[7:12]\n",
    "print(substr)\n",
    "#==================================================="
   ]
  },
  {
   "cell_type": "code",
   "execution_count": 15,
   "id": "9157beda",
   "metadata": {},
   "outputs": [
    {
     "name": "stdout",
     "output_type": "stream",
     "text": [
      "True\n"
     ]
    }
   ],
   "source": [
    "#Q11. Create a variable named \"is_student\" and assign it a boolean value indicating whether you are currently a student or not.\n",
    "#answer\n",
    "is_student=True\n",
    "print(is_student)\n",
    "#===============================================================\n"
   ]
  },
  {
   "cell_type": "code",
   "execution_count": null,
   "id": "ff869744",
   "metadata": {},
   "outputs": [],
   "source": []
  }
 ],
 "metadata": {
  "kernelspec": {
   "display_name": "Python 3 (ipykernel)",
   "language": "python",
   "name": "python3"
  },
  "language_info": {
   "codemirror_mode": {
    "name": "ipython",
    "version": 3
   },
   "file_extension": ".py",
   "mimetype": "text/x-python",
   "name": "python",
   "nbconvert_exporter": "python",
   "pygments_lexer": "ipython3",
   "version": "3.11.3"
  }
 },
 "nbformat": 4,
 "nbformat_minor": 5
}
